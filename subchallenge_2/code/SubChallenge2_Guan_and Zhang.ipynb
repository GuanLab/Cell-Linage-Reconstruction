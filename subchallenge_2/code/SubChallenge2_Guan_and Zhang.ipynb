{
 "cells": [
  {
   "cell_type": "code",
   "execution_count": 1,
   "metadata": {},
   "outputs": [
    {
     "ename": "ModuleNotFoundError",
     "evalue": "No module named 'dendropy'",
     "output_type": "error",
     "traceback": [
      "\u001b[0;31m---------------------------------------------------------------------------\u001b[0m",
      "\u001b[0;31mModuleNotFoundError\u001b[0m                       Traceback (most recent call last)",
      "\u001b[0;32m<ipython-input-1-9147dbf71fc9>\u001b[0m in \u001b[0;36m<module>\u001b[0;34m()\u001b[0m\n\u001b[1;32m      7\u001b[0m \u001b[0;32mimport\u001b[0m \u001b[0mglob\u001b[0m\u001b[0;34m,\u001b[0m \u001b[0mrandom\u001b[0m\u001b[0;34m,\u001b[0m \u001b[0mre\u001b[0m\u001b[0;34m,\u001b[0m \u001b[0mos\u001b[0m\u001b[0;34m,\u001b[0m \u001b[0msys\u001b[0m\u001b[0;34m,\u001b[0m \u001b[0mshutil\u001b[0m\u001b[0;34m\u001b[0m\u001b[0m\n\u001b[1;32m      8\u001b[0m \u001b[0;32mimport\u001b[0m \u001b[0mmath\u001b[0m\u001b[0;34m\u001b[0m\u001b[0m\n\u001b[0;32m----> 9\u001b[0;31m \u001b[0;32mimport\u001b[0m \u001b[0mdendropy\u001b[0m\u001b[0;34m\u001b[0m\u001b[0m\n\u001b[0m\u001b[1;32m     10\u001b[0m \u001b[0;32mfrom\u001b[0m \u001b[0mcollections\u001b[0m \u001b[0;32mimport\u001b[0m \u001b[0mCounter\u001b[0m\u001b[0;34m,\u001b[0m \u001b[0mdefaultdict\u001b[0m\u001b[0;34m\u001b[0m\u001b[0m\n",
      "\u001b[0;31mModuleNotFoundError\u001b[0m: No module named 'dendropy'"
     ]
    }
   ],
   "source": [
    "#!/usr/bin/python3\n",
    "#author: @rayezh\n",
    "\n",
    "import numpy as np\n",
    "import pandas as pd\n",
    "from itertools import combinations\n",
    "import glob, random, re, os, sys, shutil\n",
    "import math\n",
    "import dendropy\n",
    "from collections import Counter, defaultdict"
   ]
  },
  {
   "cell_type": "code",
   "execution_count": null,
   "metadata": {},
   "outputs": [],
   "source": [
    "def one_hot_embedding(lineage):\n",
    "    \"\"\" \n",
    "    embedding: \n",
    "    symbol_set[loc][mutation] = weight\n",
    "    \"\"\"\n",
    "    import string\n",
    "    from collections import defaultdict\n",
    "    import numpy as np\n",
    "    all_symbol = []\n",
    "    symbol_set =  {x:defaultdict(lambda:0) for x in range(200)}\n",
    "    for _,cell in lineage.items():\n",
    "        for i in range(len(cell)):\n",
    "            symbol_set[i][cell[i]] +=1 \n",
    "        all_symbol.extend(cell) \n",
    "    all_symbol = sorted(list(set(all_symbol)))\n",
    "    for k1, v1 in symbol_set.items():\n",
    "        for k2, v2 in v1.items():\n",
    "            symbol_set[k1][k2] = np.log10(100/v2)+1  #log base =10 \n",
    "    return symbol_set, all_symbol"
   ]
  },
  {
   "cell_type": "code",
   "execution_count": 2,
   "metadata": {},
   "outputs": [],
   "source": [
    "def fix_gap(record):\n",
    "    \"\"\"\n",
    "    Mark every gap with start and end:\n",
    "        Gap can be uniquely markded by mutations at both ends: mutation type and location.\n",
    "        We can also mark gaps resulted from three or more than three simultaneous mutations.\n",
    "    input:\n",
    "        mution recordings in list format.\n",
    "    output:\n",
    "        mutation recordings with gaps marked.\n",
    "    \"\"\"\n",
    "    i = 0\n",
    "    gap = False\n",
    "    record_new = record.copy()\n",
    "    while i < len(record):\n",
    "        n = 0\n",
    "        #print(record[i], gap)\n",
    "        if(record[i] =='-')and(gap == False)and(record[i-1] in list('0'+'ABCDEFGHIJKLMNOPQRSTUVWXYZ'+'abcd')):\n",
    "            start = record[i-1]\n",
    "            start_idx = i-1\n",
    "            gap = True\n",
    "            #score = embed[start]\n",
    "            sign = 'gap'+start+str(start_idx)\n",
    "        if(record[i] !='-')and(gap==True)and(record[i] in list('0'+'ABCDEFGHIJKLMNOPQRSTUVWXYZ'+'abcd')):\n",
    "            end = record[i]\n",
    "            end_idx = i\n",
    "            #score = score*embed[end] #5 is arbitury\n",
    "            sign = sign+'_'+end+str(end_idx)\n",
    "            if (i+1 == len(record))or (record[i+1] != '-'): # gap ends\n",
    "                gap = False\n",
    "                for j in range(start_idx, end_idx+1):\n",
    "                    record_new[j]=sign\n",
    "        i+=1\n",
    "    return record_new"
   ]
  },
  {
   "cell_type": "code",
   "execution_count": 3,
   "metadata": {},
   "outputs": [],
   "source": [
    "def find_nearest_pair(lineage, embed,  mutation_all):\n",
    "    \"\"\"\n",
    "    input:\n",
    "        lineage: a dictionary of taxa:record ['A', 'B', 'C', ...].\n",
    "    output: \n",
    "        sister:the taxa of nearest pair.\n",
    "    \"\"\"\n",
    "    from scipy.sparse import csr_matrix\n",
    "    print('finding the nearest pair in',len(lineage),'cells ...')\n",
    "    num_mutation_all =len(mutation_all)\n",
    "    n = len(lineage[0]) #200\n",
    "    mat = np.zeros((len(lineage), num_mutation_all*200))  #cell mutation  matrix for 100 cells; every cell has 200 barcodes\n",
    "    dist_mat = np.zeros((len(lineage), num_mutation_all*200))\n",
    "    i = 0\n",
    "    for k, v in lineage.items():\n",
    "        for idx,state in enumerate(v):\n",
    "            if state =='0':\n",
    "                mat[i, idx*num_mutation_all:(idx+1)*num_mutation_all] = 1\n",
    "            else:\n",
    "                mat[i, idx*num_mutation_all+mutation_all.index(state)] = num_mutation_all*embed[idx][state] #num_mutation_all to lift the weights\n",
    "\n",
    "            if state.startswith('gap'):\n",
    "                dist_mat[i, idx*num_mutation_all:(idx+1)*num_mutation_all] = 0\n",
    "            else:\n",
    "                dist_mat[i, idx*num_mutation_all:(idx+1)*num_mutation_all] = 1\n",
    "        i+=1\n",
    "\n",
    "    product = mat.dot(mat.T)\n",
    "    dist_product = dist_mat.dot(dist_mat.T)\n",
    "    product = np.divide(product, dist_product)\n",
    "    np.fill_diagonal(product, 0)\n",
    "    x = len(lineage.keys())\n",
    "    idx = product.argmax()\n",
    "    while (idx//x) == (idx % x):\n",
    "        product[(idx//x), (idx//x)] -= 1\n",
    "        idx = product.argmax()\n",
    "\n",
    "    pair1 = list(lineage.keys())[(idx//x)]\n",
    "    pair2 = list(lineage.keys())[(idx % x)]\n",
    "    print(product[(idx//x), (idx % x)],(pair1, pair2))\n",
    "    return[pair1, pair2]"
   ]
  },
  {
   "cell_type": "code",
   "execution_count": 4,
   "metadata": {},
   "outputs": [],
   "source": [
    "def hierachical_clustering(X):\n",
    "    '''\n",
    "    input: recordings of cells; list of tuples-(cell_name, recording)\n",
    "    output: clustered tree in newick format (with root)\n",
    "    '''\n",
    "    lineage = {}\n",
    "    for taxa, record in X:\n",
    "        record = fix_gap(record)\n",
    "        lineage.update({taxa:record}) \n",
    "    while len(lineage) >= 2:\n",
    "        embed, all_symbol = one_hot_embedding(lineage) #customed weights for each round of clustering\n",
    "        #find the nearest two cells based on\n",
    "        #compute distance matrix and find minimum\n",
    "        sister = find_nearest_pair(lineage, embed, all_symbol)\n",
    "        record_new = []\n",
    "        for i in range(len(lineage[sister[0]])):\n",
    "            if lineage[sister[0]][i]==lineage[sister[1]][i]:\n",
    "                record_new.append(lineage[sister[0]][i])\n",
    "            else:\n",
    "                if lineage[sister[0]][i].startswith('gap') and (not lineage[sister[1]][i].startswith('gap')):\n",
    "                    record_new.append(lineage[sister[1]][i])\n",
    "                elif lineage[sister[1]][i].startswith('gap') and (not lineage[sister[0]][i].startswith('gap')):\n",
    "                    record_new.append(lineage[sister[0]][i])\n",
    "                else:\n",
    "                    record_new.append('0')\n",
    "        cluster_new = {'('+sister[0]+','+sister[1]+')':record_new}\n",
    "        lineage.pop(sister[0])\n",
    "        lineage.pop(sister[1])\n",
    "        lineage.update(cluster_new)\n",
    "\n",
    "    rec_tree = list(lineage.keys())[0]+'root;'\n",
    "    return rec_tree"
   ]
  },
  {
   "cell_type": "code",
   "execution_count": 5,
   "metadata": {},
   "outputs": [],
   "source": [
    "def main():\n",
    "    for i in range(1,101):\n",
    "        print(i)\n",
    "        X = []\n",
    "        input_file_path = '../SubC2_train_TXT/SubC2_train_'+format(i,'04d')+'.txt'   #path of input recordings\n",
    "        output_file_path = 'SubC2_train_'+format(i,'04d')+'.nw'           #path of reconstructed lineage\n",
    "        with  open(input_file_path, 'r') as Xfile:\n",
    "            for line in Xfile:\n",
    "                table = line.rstrip().split('\\t')\n",
    "                X.append((table[0], list(table[1])))\n",
    "        rec_tree = hierachical_clustering(X)\n",
    "        rec_file = open(output_file_path, 'w')\n",
    "        rec_file.write(rec_tree)"
   ]
  },
  {
   "cell_type": "code",
   "execution_count": 6,
   "metadata": {},
   "outputs": [
    {
     "name": "stdout",
     "output_type": "stream",
     "text": [
      "1\n"
     ]
    },
    {
     "ename": "FileNotFoundError",
     "evalue": "[Errno 2] No such file or directory: '../SubC2_train_TXT/SubC2_train_0001.txt'",
     "output_type": "error",
     "traceback": [
      "\u001b[0;31m---------------------------------------------------------------------------\u001b[0m",
      "\u001b[0;31mFileNotFoundError\u001b[0m                         Traceback (most recent call last)",
      "\u001b[0;32m<ipython-input-6-c7bc734e5e35>\u001b[0m in \u001b[0;36m<module>\u001b[0;34m()\u001b[0m\n\u001b[1;32m      1\u001b[0m \u001b[0;32mif\u001b[0m \u001b[0m__name__\u001b[0m \u001b[0;34m==\u001b[0m \u001b[0;34m'__main__'\u001b[0m\u001b[0;34m:\u001b[0m\u001b[0;34m\u001b[0m\u001b[0m\n\u001b[0;32m----> 2\u001b[0;31m     \u001b[0mmain\u001b[0m\u001b[0;34m(\u001b[0m\u001b[0;34m)\u001b[0m\u001b[0;34m\u001b[0m\u001b[0m\n\u001b[0m",
      "\u001b[0;32m<ipython-input-5-18fb03b2bdf4>\u001b[0m in \u001b[0;36mmain\u001b[0;34m()\u001b[0m\n\u001b[1;32m      5\u001b[0m         \u001b[0minput_file_path\u001b[0m \u001b[0;34m=\u001b[0m \u001b[0;34m'../SubC2_train_TXT/SubC2_train_'\u001b[0m\u001b[0;34m+\u001b[0m\u001b[0mformat\u001b[0m\u001b[0;34m(\u001b[0m\u001b[0mi\u001b[0m\u001b[0;34m,\u001b[0m\u001b[0;34m'04d'\u001b[0m\u001b[0;34m)\u001b[0m\u001b[0;34m+\u001b[0m\u001b[0;34m'.txt'\u001b[0m   \u001b[0;31m#path of input recordings\u001b[0m\u001b[0;34m\u001b[0m\u001b[0m\n\u001b[1;32m      6\u001b[0m         \u001b[0moutput_file_path\u001b[0m \u001b[0;34m=\u001b[0m \u001b[0;34m'SubC2_train_'\u001b[0m\u001b[0;34m+\u001b[0m\u001b[0mformat\u001b[0m\u001b[0;34m(\u001b[0m\u001b[0mi\u001b[0m\u001b[0;34m,\u001b[0m\u001b[0;34m'04d'\u001b[0m\u001b[0;34m)\u001b[0m\u001b[0;34m+\u001b[0m\u001b[0;34m'.nw'\u001b[0m           \u001b[0;31m#path of reconstructed lineage\u001b[0m\u001b[0;34m\u001b[0m\u001b[0m\n\u001b[0;32m----> 7\u001b[0;31m         \u001b[0;32mwith\u001b[0m  \u001b[0mopen\u001b[0m\u001b[0;34m(\u001b[0m\u001b[0minput_file_path\u001b[0m\u001b[0;34m,\u001b[0m \u001b[0;34m'r'\u001b[0m\u001b[0;34m)\u001b[0m \u001b[0;32mas\u001b[0m \u001b[0mXfile\u001b[0m\u001b[0;34m:\u001b[0m\u001b[0;34m\u001b[0m\u001b[0m\n\u001b[0m\u001b[1;32m      8\u001b[0m             \u001b[0;32mfor\u001b[0m \u001b[0mline\u001b[0m \u001b[0;32min\u001b[0m \u001b[0mXfile\u001b[0m\u001b[0;34m:\u001b[0m\u001b[0;34m\u001b[0m\u001b[0m\n\u001b[1;32m      9\u001b[0m                 \u001b[0mtable\u001b[0m \u001b[0;34m=\u001b[0m \u001b[0mline\u001b[0m\u001b[0;34m.\u001b[0m\u001b[0mrstrip\u001b[0m\u001b[0;34m(\u001b[0m\u001b[0;34m)\u001b[0m\u001b[0;34m.\u001b[0m\u001b[0msplit\u001b[0m\u001b[0;34m(\u001b[0m\u001b[0;34m'\\t'\u001b[0m\u001b[0;34m)\u001b[0m\u001b[0;34m\u001b[0m\u001b[0m\n",
      "\u001b[0;31mFileNotFoundError\u001b[0m: [Errno 2] No such file or directory: '../SubC2_train_TXT/SubC2_train_0001.txt'"
     ]
    }
   ],
   "source": [
    "if __name__ == '__main__':\n",
    "    main()"
   ]
  },
  {
   "cell_type": "code",
   "execution_count": null,
   "metadata": {},
   "outputs": [],
   "source": []
  }
 ],
 "metadata": {
  "kernelspec": {
   "display_name": "Python 3",
   "language": "python",
   "name": "python3"
  },
  "language_info": {
   "codemirror_mode": {
    "name": "ipython",
    "version": 3
   },
   "file_extension": ".py",
   "mimetype": "text/x-python",
   "name": "python",
   "nbconvert_exporter": "python",
   "pygments_lexer": "ipython3",
   "version": "3.6.5"
  }
 },
 "nbformat": 4,
 "nbformat_minor": 2
}
